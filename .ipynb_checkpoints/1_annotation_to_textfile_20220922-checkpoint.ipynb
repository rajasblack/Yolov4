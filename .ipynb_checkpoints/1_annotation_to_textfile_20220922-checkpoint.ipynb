{
 "cells": [
  {
   "cell_type": "code",
   "execution_count": 1,
   "metadata": {},
   "outputs": [],
   "source": [
    "import numpy\n",
    "#import libpng\n",
    "import json\n",
    "import pandas as pd \n",
    "from pandas.io.json import json_normalize\n",
    "import requests\n",
    "#from urllib import urlretrieve\n",
    "from urllib import *\n",
    "from urllib.request import urlretrieve\n",
    "import re\n",
    "\n",
    "from PIL import Image, ImageDraw, ImageOps\n",
    "import numpy as np\n",
    "import os\n",
    "\n",
    "import pandas as pd\n",
    "\n",
    "from sklearn.metrics import *\n",
    "\n",
    "import matplotlib.pyplot as plt\n",
    "import shutil\n",
    "import ast\n",
    "import csv"
   ]
  },
  {
   "cell_type": "code",
   "execution_count": 2,
   "metadata": {},
   "outputs": [
    {
     "data": {
      "text/plain": [
       "'/Users/chenmingxue/Desktop/KPMG_Project/computer_vision/general_development/code/microinnocation'"
      ]
     },
     "execution_count": 2,
     "metadata": {},
     "output_type": "execute_result"
    }
   ],
   "source": [
    "os.getcwd()"
   ]
  },
  {
   "cell_type": "code",
   "execution_count": 3,
   "metadata": {},
   "outputs": [],
   "source": [
    "#Reading the files\n",
    "\n",
    "# files= os.listdir('/Users/chenmingxue/Desktop/KPMG_Project/BOA_ComputerVision/signature-detection/via_annotated_data/')\n",
    "\n",
    "# files = [f for f in files if '.csv' in f]\n"
   ]
  },
  {
   "cell_type": "code",
   "execution_count": 4,
   "metadata": {},
   "outputs": [],
   "source": [
    "# output format\n",
    "#filename x1,y1,x2,y2,label(int)\n",
    "\n"
   ]
  },
  {
   "cell_type": "code",
   "execution_count": 5,
   "metadata": {},
   "outputs": [],
   "source": [
    "DATA_DIR = 'data/identify_persons/annotation'\n",
    "ANNOTATIONS_FILE = os.path.join(DATA_DIR, 'train_csv.csv')\n"
   ]
  },
  {
   "cell_type": "code",
   "execution_count": 6,
   "metadata": {},
   "outputs": [],
   "source": [
    "df_annotation = pd.read_csv(ANNOTATIONS_FILE)"
   ]
  },
  {
   "cell_type": "code",
   "execution_count": 27,
   "metadata": {},
   "outputs": [
    {
     "data": {
      "text/html": [
       "<div>\n",
       "<style scoped>\n",
       "    .dataframe tbody tr th:only-of-type {\n",
       "        vertical-align: middle;\n",
       "    }\n",
       "\n",
       "    .dataframe tbody tr th {\n",
       "        vertical-align: top;\n",
       "    }\n",
       "\n",
       "    .dataframe thead th {\n",
       "        text-align: right;\n",
       "    }\n",
       "</style>\n",
       "<table border=\"1\" class=\"dataframe\">\n",
       "  <thead>\n",
       "    <tr style=\"text-align: right;\">\n",
       "      <th></th>\n",
       "      <th>filename</th>\n",
       "      <th>file_size</th>\n",
       "      <th>file_attributes</th>\n",
       "      <th>region_count</th>\n",
       "      <th>region_id</th>\n",
       "      <th>region_shape_attributes</th>\n",
       "      <th>region_attributes</th>\n",
       "      <th>Flag</th>\n",
       "      <th>annotation</th>\n",
       "    </tr>\n",
       "  </thead>\n",
       "  <tbody>\n",
       "    <tr>\n",
       "      <th>0</th>\n",
       "      <td>1.jpg</td>\n",
       "      <td>427176</td>\n",
       "      <td>{}</td>\n",
       "      <td>1</td>\n",
       "      <td>0</td>\n",
       "      <td>{\"name\":\"rect\",\"x\":445,\"y\":25,\"width\":956,\"hei...</td>\n",
       "      <td>{\"person\":{\"biden\":true}}</td>\n",
       "      <td>Train</td>\n",
       "      <td>biden</td>\n",
       "    </tr>\n",
       "    <tr>\n",
       "      <th>1</th>\n",
       "      <td>2.jpg</td>\n",
       "      <td>614312</td>\n",
       "      <td>{}</td>\n",
       "      <td>1</td>\n",
       "      <td>0</td>\n",
       "      <td>{\"name\":\"rect\",\"x\":915,\"y\":43,\"width\":822,\"hei...</td>\n",
       "      <td>{\"person\":{\"obama\":true}}</td>\n",
       "      <td>Train</td>\n",
       "      <td>obama</td>\n",
       "    </tr>\n",
       "    <tr>\n",
       "      <th>2</th>\n",
       "      <td>3.jpg</td>\n",
       "      <td>563764</td>\n",
       "      <td>{}</td>\n",
       "      <td>1</td>\n",
       "      <td>0</td>\n",
       "      <td>{\"name\":\"rect\",\"x\":826,\"y\":60,\"width\":1240,\"he...</td>\n",
       "      <td>{\"person\":{\"obama\":true}}</td>\n",
       "      <td>Train</td>\n",
       "      <td>obama</td>\n",
       "    </tr>\n",
       "    <tr>\n",
       "      <th>3</th>\n",
       "      <td>8.jpg</td>\n",
       "      <td>172682</td>\n",
       "      <td>{}</td>\n",
       "      <td>1</td>\n",
       "      <td>0</td>\n",
       "      <td>{\"name\":\"rect\",\"x\":899,\"y\":84,\"width\":621,\"hei...</td>\n",
       "      <td>{\"person\":{\"obama\":true}}</td>\n",
       "      <td>Train</td>\n",
       "      <td>obama</td>\n",
       "    </tr>\n",
       "    <tr>\n",
       "      <th>4</th>\n",
       "      <td>9.jpg</td>\n",
       "      <td>403273</td>\n",
       "      <td>{}</td>\n",
       "      <td>1</td>\n",
       "      <td>0</td>\n",
       "      <td>{\"name\":\"rect\",\"x\":224,\"y\":30,\"width\":472,\"hei...</td>\n",
       "      <td>{\"person\":{\"biden\":true}}</td>\n",
       "      <td>Train</td>\n",
       "      <td>biden</td>\n",
       "    </tr>\n",
       "    <tr>\n",
       "      <th>5</th>\n",
       "      <td>10.jpg</td>\n",
       "      <td>194499</td>\n",
       "      <td>{}</td>\n",
       "      <td>1</td>\n",
       "      <td>0</td>\n",
       "      <td>{\"name\":\"rect\",\"x\":409,\"y\":4,\"width\":629,\"heig...</td>\n",
       "      <td>{\"person\":{\"obama\":true}}</td>\n",
       "      <td>Train</td>\n",
       "      <td>obama</td>\n",
       "    </tr>\n",
       "    <tr>\n",
       "      <th>6</th>\n",
       "      <td>11.jpg</td>\n",
       "      <td>87414</td>\n",
       "      <td>{}</td>\n",
       "      <td>1</td>\n",
       "      <td>0</td>\n",
       "      <td>{\"name\":\"rect\",\"x\":689,\"y\":107,\"width\":418,\"he...</td>\n",
       "      <td>{\"person\":{\"obama\":true}}</td>\n",
       "      <td>Train</td>\n",
       "      <td>obama</td>\n",
       "    </tr>\n",
       "    <tr>\n",
       "      <th>7</th>\n",
       "      <td>12.jpg</td>\n",
       "      <td>328417</td>\n",
       "      <td>{}</td>\n",
       "      <td>1</td>\n",
       "      <td>0</td>\n",
       "      <td>{\"name\":\"rect\",\"x\":914,\"y\":769,\"width\":655,\"he...</td>\n",
       "      <td>{\"person\":{\"biden\":true}}</td>\n",
       "      <td>Train</td>\n",
       "      <td>biden</td>\n",
       "    </tr>\n",
       "    <tr>\n",
       "      <th>8</th>\n",
       "      <td>13.jpg</td>\n",
       "      <td>322927</td>\n",
       "      <td>{}</td>\n",
       "      <td>1</td>\n",
       "      <td>0</td>\n",
       "      <td>{\"name\":\"rect\",\"x\":838,\"y\":129,\"width\":469,\"he...</td>\n",
       "      <td>{\"person\":{\"biden\":true}}</td>\n",
       "      <td>Train</td>\n",
       "      <td>biden</td>\n",
       "    </tr>\n",
       "    <tr>\n",
       "      <th>9</th>\n",
       "      <td>14.jpg</td>\n",
       "      <td>134040</td>\n",
       "      <td>{}</td>\n",
       "      <td>1</td>\n",
       "      <td>0</td>\n",
       "      <td>{\"name\":\"rect\",\"x\":417,\"y\":82,\"width\":656,\"hei...</td>\n",
       "      <td>{\"person\":{\"elon\":true}}</td>\n",
       "      <td>Train</td>\n",
       "      <td>elon</td>\n",
       "    </tr>\n",
       "    <tr>\n",
       "      <th>10</th>\n",
       "      <td>15.jpg</td>\n",
       "      <td>345908</td>\n",
       "      <td>{}</td>\n",
       "      <td>1</td>\n",
       "      <td>0</td>\n",
       "      <td>{\"name\":\"rect\",\"x\":623,\"y\":90,\"width\":328,\"hei...</td>\n",
       "      <td>{\"person\":{\"obama\":true}}</td>\n",
       "      <td>Train</td>\n",
       "      <td>obama</td>\n",
       "    </tr>\n",
       "    <tr>\n",
       "      <th>11</th>\n",
       "      <td>16.jpg</td>\n",
       "      <td>278801</td>\n",
       "      <td>{}</td>\n",
       "      <td>1</td>\n",
       "      <td>0</td>\n",
       "      <td>{\"name\":\"rect\",\"x\":146,\"y\":90,\"width\":415,\"hei...</td>\n",
       "      <td>{\"person\":{\"obama\":true}}</td>\n",
       "      <td>Train</td>\n",
       "      <td>obama</td>\n",
       "    </tr>\n",
       "    <tr>\n",
       "      <th>12</th>\n",
       "      <td>17.jpg</td>\n",
       "      <td>105418</td>\n",
       "      <td>{}</td>\n",
       "      <td>1</td>\n",
       "      <td>0</td>\n",
       "      <td>{\"name\":\"rect\",\"x\":224,\"y\":7,\"width\":456,\"heig...</td>\n",
       "      <td>{\"person\":{\"elon\":true}}</td>\n",
       "      <td>Train</td>\n",
       "      <td>elon</td>\n",
       "    </tr>\n",
       "    <tr>\n",
       "      <th>13</th>\n",
       "      <td>18.jpg</td>\n",
       "      <td>1586112</td>\n",
       "      <td>{}</td>\n",
       "      <td>1</td>\n",
       "      <td>0</td>\n",
       "      <td>{\"name\":\"rect\",\"x\":575,\"y\":52,\"width\":342,\"hei...</td>\n",
       "      <td>{\"person\":{\"elon\":true}}</td>\n",
       "      <td>Train</td>\n",
       "      <td>elon</td>\n",
       "    </tr>\n",
       "    <tr>\n",
       "      <th>14</th>\n",
       "      <td>19.jpeg</td>\n",
       "      <td>382648</td>\n",
       "      <td>{}</td>\n",
       "      <td>1</td>\n",
       "      <td>0</td>\n",
       "      <td>{\"name\":\"rect\",\"x\":1814,\"y\":202,\"width\":1121,\"...</td>\n",
       "      <td>{\"person\":{\"biden\":true}}</td>\n",
       "      <td>Train</td>\n",
       "      <td>biden</td>\n",
       "    </tr>\n",
       "    <tr>\n",
       "      <th>15</th>\n",
       "      <td>21.jpg</td>\n",
       "      <td>444998</td>\n",
       "      <td>{}</td>\n",
       "      <td>1</td>\n",
       "      <td>0</td>\n",
       "      <td>{\"name\":\"rect\",\"x\":527,\"y\":9,\"width\":652,\"heig...</td>\n",
       "      <td>{\"person\":{\"obama\":true}}</td>\n",
       "      <td>Train</td>\n",
       "      <td>obama</td>\n",
       "    </tr>\n",
       "    <tr>\n",
       "      <th>16</th>\n",
       "      <td>22.jpg</td>\n",
       "      <td>361521</td>\n",
       "      <td>{}</td>\n",
       "      <td>1</td>\n",
       "      <td>0</td>\n",
       "      <td>{\"name\":\"rect\",\"x\":1530,\"y\":7,\"width\":1322,\"he...</td>\n",
       "      <td>{\"person\":{\"elon\":true}}</td>\n",
       "      <td>Train</td>\n",
       "      <td>elon</td>\n",
       "    </tr>\n",
       "    <tr>\n",
       "      <th>17</th>\n",
       "      <td>24.jpg</td>\n",
       "      <td>433141</td>\n",
       "      <td>{}</td>\n",
       "      <td>1</td>\n",
       "      <td>0</td>\n",
       "      <td>{\"name\":\"rect\",\"x\":601,\"y\":158,\"width\":320,\"he...</td>\n",
       "      <td>{\"person\":{\"elon\":true}}</td>\n",
       "      <td>Train</td>\n",
       "      <td>elon</td>\n",
       "    </tr>\n",
       "    <tr>\n",
       "      <th>18</th>\n",
       "      <td>25.jpg</td>\n",
       "      <td>440065</td>\n",
       "      <td>{}</td>\n",
       "      <td>1</td>\n",
       "      <td>0</td>\n",
       "      <td>{\"name\":\"rect\",\"x\":766,\"y\":175,\"width\":830,\"he...</td>\n",
       "      <td>{\"person\":{\"elon\":true}}</td>\n",
       "      <td>Train</td>\n",
       "      <td>elon</td>\n",
       "    </tr>\n",
       "    <tr>\n",
       "      <th>19</th>\n",
       "      <td>26.jpg</td>\n",
       "      <td>369107</td>\n",
       "      <td>{}</td>\n",
       "      <td>1</td>\n",
       "      <td>0</td>\n",
       "      <td>{\"name\":\"rect\",\"x\":717,\"y\":12,\"width\":1013,\"he...</td>\n",
       "      <td>{\"person\":{\"elon\":true}}</td>\n",
       "      <td>Train</td>\n",
       "      <td>elon</td>\n",
       "    </tr>\n",
       "    <tr>\n",
       "      <th>20</th>\n",
       "      <td>27.jpeg</td>\n",
       "      <td>256738</td>\n",
       "      <td>{}</td>\n",
       "      <td>1</td>\n",
       "      <td>0</td>\n",
       "      <td>{\"name\":\"rect\",\"x\":299,\"y\":171,\"width\":1013,\"h...</td>\n",
       "      <td>{\"person\":{\"biden\":true}}</td>\n",
       "      <td>Train</td>\n",
       "      <td>biden</td>\n",
       "    </tr>\n",
       "    <tr>\n",
       "      <th>21</th>\n",
       "      <td>28.jpg</td>\n",
       "      <td>1183742</td>\n",
       "      <td>{}</td>\n",
       "      <td>1</td>\n",
       "      <td>0</td>\n",
       "      <td>{\"name\":\"rect\",\"x\":885,\"y\":77,\"width\":1184,\"he...</td>\n",
       "      <td>{\"person\":{\"elon\":true}}</td>\n",
       "      <td>Train</td>\n",
       "      <td>elon</td>\n",
       "    </tr>\n",
       "    <tr>\n",
       "      <th>22</th>\n",
       "      <td>29.jpg</td>\n",
       "      <td>749274</td>\n",
       "      <td>{}</td>\n",
       "      <td>1</td>\n",
       "      <td>0</td>\n",
       "      <td>{\"name\":\"rect\",\"x\":2553,\"y\":124,\"width\":415,\"h...</td>\n",
       "      <td>{\"person\":{\"obama\":true}}</td>\n",
       "      <td>Train</td>\n",
       "      <td>obama</td>\n",
       "    </tr>\n",
       "    <tr>\n",
       "      <th>23</th>\n",
       "      <td>30.jpg</td>\n",
       "      <td>3555232</td>\n",
       "      <td>{}</td>\n",
       "      <td>1</td>\n",
       "      <td>0</td>\n",
       "      <td>{\"name\":\"rect\",\"x\":927,\"y\":71,\"width\":669,\"hei...</td>\n",
       "      <td>{\"person\":{\"obama\":true}}</td>\n",
       "      <td>Train</td>\n",
       "      <td>obama</td>\n",
       "    </tr>\n",
       "    <tr>\n",
       "      <th>24</th>\n",
       "      <td>31.jpg</td>\n",
       "      <td>423878</td>\n",
       "      <td>{}</td>\n",
       "      <td>1</td>\n",
       "      <td>0</td>\n",
       "      <td>{\"name\":\"rect\",\"x\":817,\"y\":151,\"width\":704,\"he...</td>\n",
       "      <td>{\"person\":{\"elon\":true}}</td>\n",
       "      <td>Train</td>\n",
       "      <td>elon</td>\n",
       "    </tr>\n",
       "    <tr>\n",
       "      <th>25</th>\n",
       "      <td>32.jpg</td>\n",
       "      <td>159613</td>\n",
       "      <td>{}</td>\n",
       "      <td>1</td>\n",
       "      <td>0</td>\n",
       "      <td>{\"name\":\"rect\",\"x\":280,\"y\":58,\"width\":589,\"hei...</td>\n",
       "      <td>{\"person\":{\"elon\":true}}</td>\n",
       "      <td>Train</td>\n",
       "      <td>elon</td>\n",
       "    </tr>\n",
       "    <tr>\n",
       "      <th>26</th>\n",
       "      <td>34.jpg</td>\n",
       "      <td>397276</td>\n",
       "      <td>{}</td>\n",
       "      <td>1</td>\n",
       "      <td>0</td>\n",
       "      <td>{\"name\":\"rect\",\"x\":806,\"y\":360,\"width\":549,\"he...</td>\n",
       "      <td>{\"person\":{\"obama\":true}}</td>\n",
       "      <td>Train</td>\n",
       "      <td>obama</td>\n",
       "    </tr>\n",
       "    <tr>\n",
       "      <th>27</th>\n",
       "      <td>35.jpg</td>\n",
       "      <td>747099</td>\n",
       "      <td>{}</td>\n",
       "      <td>1</td>\n",
       "      <td>0</td>\n",
       "      <td>{\"name\":\"rect\",\"x\":1604,\"y\":27,\"width\":1231,\"h...</td>\n",
       "      <td>{\"person\":{\"obama\":true}}</td>\n",
       "      <td>Train</td>\n",
       "      <td>obama</td>\n",
       "    </tr>\n",
       "    <tr>\n",
       "      <th>28</th>\n",
       "      <td>36.jpg</td>\n",
       "      <td>194697</td>\n",
       "      <td>{}</td>\n",
       "      <td>1</td>\n",
       "      <td>0</td>\n",
       "      <td>{\"name\":\"rect\",\"x\":758,\"y\":79,\"width\":648,\"hei...</td>\n",
       "      <td>{\"person\":{\"elon\":true}}</td>\n",
       "      <td>Train</td>\n",
       "      <td>elon</td>\n",
       "    </tr>\n",
       "    <tr>\n",
       "      <th>29</th>\n",
       "      <td>37.jpg</td>\n",
       "      <td>667174</td>\n",
       "      <td>{}</td>\n",
       "      <td>1</td>\n",
       "      <td>0</td>\n",
       "      <td>{\"name\":\"rect\",\"x\":1856,\"y\":93,\"width\":308,\"he...</td>\n",
       "      <td>{\"person\":{\"elon\":true}}</td>\n",
       "      <td>Dev</td>\n",
       "      <td>elon</td>\n",
       "    </tr>\n",
       "    <tr>\n",
       "      <th>30</th>\n",
       "      <td>38.jpg</td>\n",
       "      <td>708635</td>\n",
       "      <td>{}</td>\n",
       "      <td>1</td>\n",
       "      <td>0</td>\n",
       "      <td>{\"name\":\"rect\",\"x\":1767,\"y\":442,\"width\":1093,\"...</td>\n",
       "      <td>{\"person\":{\"biden\":true}}</td>\n",
       "      <td>Dev</td>\n",
       "      <td>biden</td>\n",
       "    </tr>\n",
       "    <tr>\n",
       "      <th>31</th>\n",
       "      <td>39.jpg</td>\n",
       "      <td>214418</td>\n",
       "      <td>{}</td>\n",
       "      <td>1</td>\n",
       "      <td>0</td>\n",
       "      <td>{\"name\":\"rect\",\"x\":1006,\"y\":31,\"width\":372,\"he...</td>\n",
       "      <td>{\"person\":{\"elon\":true}}</td>\n",
       "      <td>Dev</td>\n",
       "      <td>elon</td>\n",
       "    </tr>\n",
       "    <tr>\n",
       "      <th>32</th>\n",
       "      <td>41.jpg</td>\n",
       "      <td>350892</td>\n",
       "      <td>{}</td>\n",
       "      <td>1</td>\n",
       "      <td>0</td>\n",
       "      <td>{\"name\":\"rect\",\"x\":958,\"y\":24,\"width\":1055,\"he...</td>\n",
       "      <td>{\"person\":{\"elon\":true}}</td>\n",
       "      <td>Dev</td>\n",
       "      <td>elon</td>\n",
       "    </tr>\n",
       "    <tr>\n",
       "      <th>33</th>\n",
       "      <td>42.jpg</td>\n",
       "      <td>89800</td>\n",
       "      <td>{}</td>\n",
       "      <td>1</td>\n",
       "      <td>0</td>\n",
       "      <td>{\"name\":\"rect\",\"x\":349,\"y\":7,\"width\":436,\"heig...</td>\n",
       "      <td>{\"person\":{\"obama\":true}}</td>\n",
       "      <td>Dev</td>\n",
       "      <td>obama</td>\n",
       "    </tr>\n",
       "    <tr>\n",
       "      <th>34</th>\n",
       "      <td>43.jpg</td>\n",
       "      <td>391444</td>\n",
       "      <td>{}</td>\n",
       "      <td>1</td>\n",
       "      <td>0</td>\n",
       "      <td>{\"name\":\"rect\",\"x\":796,\"y\":147,\"width\":354,\"he...</td>\n",
       "      <td>{\"person\":{\"elon\":true}}</td>\n",
       "      <td>Holdout</td>\n",
       "      <td>elon</td>\n",
       "    </tr>\n",
       "    <tr>\n",
       "      <th>35</th>\n",
       "      <td>44.jpg</td>\n",
       "      <td>665812</td>\n",
       "      <td>{}</td>\n",
       "      <td>1</td>\n",
       "      <td>0</td>\n",
       "      <td>{\"name\":\"rect\",\"x\":711,\"y\":173,\"width\":375,\"he...</td>\n",
       "      <td>{\"person\":{\"obama\":true}}</td>\n",
       "      <td>Holdout</td>\n",
       "      <td>obama</td>\n",
       "    </tr>\n",
       "    <tr>\n",
       "      <th>36</th>\n",
       "      <td>45.jpg</td>\n",
       "      <td>613532</td>\n",
       "      <td>{}</td>\n",
       "      <td>1</td>\n",
       "      <td>0</td>\n",
       "      <td>{\"name\":\"rect\",\"x\":630,\"y\":3,\"width\":1709,\"hei...</td>\n",
       "      <td>{\"person\":{\"biden\":true}}</td>\n",
       "      <td>Holdout</td>\n",
       "      <td>biden</td>\n",
       "    </tr>\n",
       "    <tr>\n",
       "      <th>37</th>\n",
       "      <td>46.jpg</td>\n",
       "      <td>205598</td>\n",
       "      <td>{}</td>\n",
       "      <td>1</td>\n",
       "      <td>0</td>\n",
       "      <td>{\"name\":\"rect\",\"x\":786,\"y\":29,\"width\":788,\"hei...</td>\n",
       "      <td>{\"person\":{\"biden\":true}}</td>\n",
       "      <td>Holdout</td>\n",
       "      <td>biden</td>\n",
       "    </tr>\n",
       "  </tbody>\n",
       "</table>\n",
       "</div>"
      ],
      "text/plain": [
       "   filename  file_size file_attributes  region_count  region_id  \\\n",
       "0     1.jpg     427176              {}             1          0   \n",
       "1     2.jpg     614312              {}             1          0   \n",
       "2     3.jpg     563764              {}             1          0   \n",
       "3     8.jpg     172682              {}             1          0   \n",
       "4     9.jpg     403273              {}             1          0   \n",
       "5    10.jpg     194499              {}             1          0   \n",
       "6    11.jpg      87414              {}             1          0   \n",
       "7    12.jpg     328417              {}             1          0   \n",
       "8    13.jpg     322927              {}             1          0   \n",
       "9    14.jpg     134040              {}             1          0   \n",
       "10   15.jpg     345908              {}             1          0   \n",
       "11   16.jpg     278801              {}             1          0   \n",
       "12   17.jpg     105418              {}             1          0   \n",
       "13   18.jpg    1586112              {}             1          0   \n",
       "14  19.jpeg     382648              {}             1          0   \n",
       "15   21.jpg     444998              {}             1          0   \n",
       "16   22.jpg     361521              {}             1          0   \n",
       "17   24.jpg     433141              {}             1          0   \n",
       "18   25.jpg     440065              {}             1          0   \n",
       "19   26.jpg     369107              {}             1          0   \n",
       "20  27.jpeg     256738              {}             1          0   \n",
       "21   28.jpg    1183742              {}             1          0   \n",
       "22   29.jpg     749274              {}             1          0   \n",
       "23   30.jpg    3555232              {}             1          0   \n",
       "24   31.jpg     423878              {}             1          0   \n",
       "25   32.jpg     159613              {}             1          0   \n",
       "26   34.jpg     397276              {}             1          0   \n",
       "27   35.jpg     747099              {}             1          0   \n",
       "28   36.jpg     194697              {}             1          0   \n",
       "29   37.jpg     667174              {}             1          0   \n",
       "30   38.jpg     708635              {}             1          0   \n",
       "31   39.jpg     214418              {}             1          0   \n",
       "32   41.jpg     350892              {}             1          0   \n",
       "33   42.jpg      89800              {}             1          0   \n",
       "34   43.jpg     391444              {}             1          0   \n",
       "35   44.jpg     665812              {}             1          0   \n",
       "36   45.jpg     613532              {}             1          0   \n",
       "37   46.jpg     205598              {}             1          0   \n",
       "\n",
       "                              region_shape_attributes  \\\n",
       "0   {\"name\":\"rect\",\"x\":445,\"y\":25,\"width\":956,\"hei...   \n",
       "1   {\"name\":\"rect\",\"x\":915,\"y\":43,\"width\":822,\"hei...   \n",
       "2   {\"name\":\"rect\",\"x\":826,\"y\":60,\"width\":1240,\"he...   \n",
       "3   {\"name\":\"rect\",\"x\":899,\"y\":84,\"width\":621,\"hei...   \n",
       "4   {\"name\":\"rect\",\"x\":224,\"y\":30,\"width\":472,\"hei...   \n",
       "5   {\"name\":\"rect\",\"x\":409,\"y\":4,\"width\":629,\"heig...   \n",
       "6   {\"name\":\"rect\",\"x\":689,\"y\":107,\"width\":418,\"he...   \n",
       "7   {\"name\":\"rect\",\"x\":914,\"y\":769,\"width\":655,\"he...   \n",
       "8   {\"name\":\"rect\",\"x\":838,\"y\":129,\"width\":469,\"he...   \n",
       "9   {\"name\":\"rect\",\"x\":417,\"y\":82,\"width\":656,\"hei...   \n",
       "10  {\"name\":\"rect\",\"x\":623,\"y\":90,\"width\":328,\"hei...   \n",
       "11  {\"name\":\"rect\",\"x\":146,\"y\":90,\"width\":415,\"hei...   \n",
       "12  {\"name\":\"rect\",\"x\":224,\"y\":7,\"width\":456,\"heig...   \n",
       "13  {\"name\":\"rect\",\"x\":575,\"y\":52,\"width\":342,\"hei...   \n",
       "14  {\"name\":\"rect\",\"x\":1814,\"y\":202,\"width\":1121,\"...   \n",
       "15  {\"name\":\"rect\",\"x\":527,\"y\":9,\"width\":652,\"heig...   \n",
       "16  {\"name\":\"rect\",\"x\":1530,\"y\":7,\"width\":1322,\"he...   \n",
       "17  {\"name\":\"rect\",\"x\":601,\"y\":158,\"width\":320,\"he...   \n",
       "18  {\"name\":\"rect\",\"x\":766,\"y\":175,\"width\":830,\"he...   \n",
       "19  {\"name\":\"rect\",\"x\":717,\"y\":12,\"width\":1013,\"he...   \n",
       "20  {\"name\":\"rect\",\"x\":299,\"y\":171,\"width\":1013,\"h...   \n",
       "21  {\"name\":\"rect\",\"x\":885,\"y\":77,\"width\":1184,\"he...   \n",
       "22  {\"name\":\"rect\",\"x\":2553,\"y\":124,\"width\":415,\"h...   \n",
       "23  {\"name\":\"rect\",\"x\":927,\"y\":71,\"width\":669,\"hei...   \n",
       "24  {\"name\":\"rect\",\"x\":817,\"y\":151,\"width\":704,\"he...   \n",
       "25  {\"name\":\"rect\",\"x\":280,\"y\":58,\"width\":589,\"hei...   \n",
       "26  {\"name\":\"rect\",\"x\":806,\"y\":360,\"width\":549,\"he...   \n",
       "27  {\"name\":\"rect\",\"x\":1604,\"y\":27,\"width\":1231,\"h...   \n",
       "28  {\"name\":\"rect\",\"x\":758,\"y\":79,\"width\":648,\"hei...   \n",
       "29  {\"name\":\"rect\",\"x\":1856,\"y\":93,\"width\":308,\"he...   \n",
       "30  {\"name\":\"rect\",\"x\":1767,\"y\":442,\"width\":1093,\"...   \n",
       "31  {\"name\":\"rect\",\"x\":1006,\"y\":31,\"width\":372,\"he...   \n",
       "32  {\"name\":\"rect\",\"x\":958,\"y\":24,\"width\":1055,\"he...   \n",
       "33  {\"name\":\"rect\",\"x\":349,\"y\":7,\"width\":436,\"heig...   \n",
       "34  {\"name\":\"rect\",\"x\":796,\"y\":147,\"width\":354,\"he...   \n",
       "35  {\"name\":\"rect\",\"x\":711,\"y\":173,\"width\":375,\"he...   \n",
       "36  {\"name\":\"rect\",\"x\":630,\"y\":3,\"width\":1709,\"hei...   \n",
       "37  {\"name\":\"rect\",\"x\":786,\"y\":29,\"width\":788,\"hei...   \n",
       "\n",
       "            region_attributes     Flag annotation  \n",
       "0   {\"person\":{\"biden\":true}}    Train      biden  \n",
       "1   {\"person\":{\"obama\":true}}    Train      obama  \n",
       "2   {\"person\":{\"obama\":true}}    Train      obama  \n",
       "3   {\"person\":{\"obama\":true}}    Train      obama  \n",
       "4   {\"person\":{\"biden\":true}}    Train      biden  \n",
       "5   {\"person\":{\"obama\":true}}    Train      obama  \n",
       "6   {\"person\":{\"obama\":true}}    Train      obama  \n",
       "7   {\"person\":{\"biden\":true}}    Train      biden  \n",
       "8   {\"person\":{\"biden\":true}}    Train      biden  \n",
       "9    {\"person\":{\"elon\":true}}    Train       elon  \n",
       "10  {\"person\":{\"obama\":true}}    Train      obama  \n",
       "11  {\"person\":{\"obama\":true}}    Train      obama  \n",
       "12   {\"person\":{\"elon\":true}}    Train       elon  \n",
       "13   {\"person\":{\"elon\":true}}    Train       elon  \n",
       "14  {\"person\":{\"biden\":true}}    Train      biden  \n",
       "15  {\"person\":{\"obama\":true}}    Train      obama  \n",
       "16   {\"person\":{\"elon\":true}}    Train       elon  \n",
       "17   {\"person\":{\"elon\":true}}    Train       elon  \n",
       "18   {\"person\":{\"elon\":true}}    Train       elon  \n",
       "19   {\"person\":{\"elon\":true}}    Train       elon  \n",
       "20  {\"person\":{\"biden\":true}}    Train      biden  \n",
       "21   {\"person\":{\"elon\":true}}    Train       elon  \n",
       "22  {\"person\":{\"obama\":true}}    Train      obama  \n",
       "23  {\"person\":{\"obama\":true}}    Train      obama  \n",
       "24   {\"person\":{\"elon\":true}}    Train       elon  \n",
       "25   {\"person\":{\"elon\":true}}    Train       elon  \n",
       "26  {\"person\":{\"obama\":true}}    Train      obama  \n",
       "27  {\"person\":{\"obama\":true}}    Train      obama  \n",
       "28   {\"person\":{\"elon\":true}}    Train       elon  \n",
       "29   {\"person\":{\"elon\":true}}      Dev       elon  \n",
       "30  {\"person\":{\"biden\":true}}      Dev      biden  \n",
       "31   {\"person\":{\"elon\":true}}      Dev       elon  \n",
       "32   {\"person\":{\"elon\":true}}      Dev       elon  \n",
       "33  {\"person\":{\"obama\":true}}      Dev      obama  \n",
       "34   {\"person\":{\"elon\":true}}  Holdout       elon  \n",
       "35  {\"person\":{\"obama\":true}}  Holdout      obama  \n",
       "36  {\"person\":{\"biden\":true}}  Holdout      biden  \n",
       "37  {\"person\":{\"biden\":true}}  Holdout      biden  "
      ]
     },
     "execution_count": 27,
     "metadata": {},
     "output_type": "execute_result"
    }
   ],
   "source": [
    "df_annotation"
   ]
  },
  {
   "cell_type": "code",
   "execution_count": 8,
   "metadata": {},
   "outputs": [],
   "source": [
    "def extract_value(x):\n",
    "    x=json.loads(x)\n",
    "    return list(x.get(\"person\").keys())[0]"
   ]
  },
  {
   "cell_type": "code",
   "execution_count": 9,
   "metadata": {},
   "outputs": [
    {
     "data": {
      "text/plain": [
       "'{\"person\":{\"biden\":true}}'"
      ]
     },
     "execution_count": 9,
     "metadata": {},
     "output_type": "execute_result"
    }
   ],
   "source": [
    "df_annotation.iloc[0]['region_attributes']"
   ]
  },
  {
   "cell_type": "code",
   "execution_count": 10,
   "metadata": {},
   "outputs": [
    {
     "data": {
      "text/plain": [
       "'biden'"
      ]
     },
     "execution_count": 10,
     "metadata": {},
     "output_type": "execute_result"
    }
   ],
   "source": [
    "x='{\"person\":{\"biden\":true}}'\n",
    "\n",
    "extract_value(x)"
   ]
  },
  {
   "cell_type": "code",
   "execution_count": 11,
   "metadata": {},
   "outputs": [
    {
     "data": {
      "text/plain": [
       "dict_keys(['biden'])"
      ]
     },
     "execution_count": 11,
     "metadata": {},
     "output_type": "execute_result"
    }
   ],
   "source": [
    "{'biden': True}.keys()"
   ]
  },
  {
   "cell_type": "code",
   "execution_count": 12,
   "metadata": {},
   "outputs": [],
   "source": [
    "df_annotation['annotation'] = df_annotation['region_attributes'].apply(lambda x:extract_value(x))"
   ]
  },
  {
   "cell_type": "code",
   "execution_count": 13,
   "metadata": {},
   "outputs": [
    {
     "data": {
      "text/html": [
       "<div>\n",
       "<style scoped>\n",
       "    .dataframe tbody tr th:only-of-type {\n",
       "        vertical-align: middle;\n",
       "    }\n",
       "\n",
       "    .dataframe tbody tr th {\n",
       "        vertical-align: top;\n",
       "    }\n",
       "\n",
       "    .dataframe thead th {\n",
       "        text-align: right;\n",
       "    }\n",
       "</style>\n",
       "<table border=\"1\" class=\"dataframe\">\n",
       "  <thead>\n",
       "    <tr style=\"text-align: right;\">\n",
       "      <th></th>\n",
       "      <th>filename</th>\n",
       "      <th>file_size</th>\n",
       "      <th>file_attributes</th>\n",
       "      <th>region_count</th>\n",
       "      <th>region_id</th>\n",
       "      <th>region_shape_attributes</th>\n",
       "      <th>region_attributes</th>\n",
       "      <th>Flag</th>\n",
       "      <th>annotation</th>\n",
       "    </tr>\n",
       "  </thead>\n",
       "  <tbody>\n",
       "    <tr>\n",
       "      <th>0</th>\n",
       "      <td>1.jpg</td>\n",
       "      <td>427176</td>\n",
       "      <td>{}</td>\n",
       "      <td>1</td>\n",
       "      <td>0</td>\n",
       "      <td>{\"name\":\"rect\",\"x\":445,\"y\":25,\"width\":956,\"hei...</td>\n",
       "      <td>{\"person\":{\"biden\":true}}</td>\n",
       "      <td>Train</td>\n",
       "      <td>biden</td>\n",
       "    </tr>\n",
       "    <tr>\n",
       "      <th>1</th>\n",
       "      <td>2.jpg</td>\n",
       "      <td>614312</td>\n",
       "      <td>{}</td>\n",
       "      <td>1</td>\n",
       "      <td>0</td>\n",
       "      <td>{\"name\":\"rect\",\"x\":915,\"y\":43,\"width\":822,\"hei...</td>\n",
       "      <td>{\"person\":{\"obama\":true}}</td>\n",
       "      <td>Train</td>\n",
       "      <td>obama</td>\n",
       "    </tr>\n",
       "    <tr>\n",
       "      <th>2</th>\n",
       "      <td>3.jpg</td>\n",
       "      <td>563764</td>\n",
       "      <td>{}</td>\n",
       "      <td>1</td>\n",
       "      <td>0</td>\n",
       "      <td>{\"name\":\"rect\",\"x\":826,\"y\":60,\"width\":1240,\"he...</td>\n",
       "      <td>{\"person\":{\"obama\":true}}</td>\n",
       "      <td>Train</td>\n",
       "      <td>obama</td>\n",
       "    </tr>\n",
       "    <tr>\n",
       "      <th>3</th>\n",
       "      <td>8.jpg</td>\n",
       "      <td>172682</td>\n",
       "      <td>{}</td>\n",
       "      <td>1</td>\n",
       "      <td>0</td>\n",
       "      <td>{\"name\":\"rect\",\"x\":899,\"y\":84,\"width\":621,\"hei...</td>\n",
       "      <td>{\"person\":{\"obama\":true}}</td>\n",
       "      <td>Train</td>\n",
       "      <td>obama</td>\n",
       "    </tr>\n",
       "    <tr>\n",
       "      <th>4</th>\n",
       "      <td>9.jpg</td>\n",
       "      <td>403273</td>\n",
       "      <td>{}</td>\n",
       "      <td>1</td>\n",
       "      <td>0</td>\n",
       "      <td>{\"name\":\"rect\",\"x\":224,\"y\":30,\"width\":472,\"hei...</td>\n",
       "      <td>{\"person\":{\"biden\":true}}</td>\n",
       "      <td>Train</td>\n",
       "      <td>biden</td>\n",
       "    </tr>\n",
       "  </tbody>\n",
       "</table>\n",
       "</div>"
      ],
      "text/plain": [
       "  filename  file_size file_attributes  region_count  region_id  \\\n",
       "0    1.jpg     427176              {}             1          0   \n",
       "1    2.jpg     614312              {}             1          0   \n",
       "2    3.jpg     563764              {}             1          0   \n",
       "3    8.jpg     172682              {}             1          0   \n",
       "4    9.jpg     403273              {}             1          0   \n",
       "\n",
       "                             region_shape_attributes  \\\n",
       "0  {\"name\":\"rect\",\"x\":445,\"y\":25,\"width\":956,\"hei...   \n",
       "1  {\"name\":\"rect\",\"x\":915,\"y\":43,\"width\":822,\"hei...   \n",
       "2  {\"name\":\"rect\",\"x\":826,\"y\":60,\"width\":1240,\"he...   \n",
       "3  {\"name\":\"rect\",\"x\":899,\"y\":84,\"width\":621,\"hei...   \n",
       "4  {\"name\":\"rect\",\"x\":224,\"y\":30,\"width\":472,\"hei...   \n",
       "\n",
       "           region_attributes   Flag annotation  \n",
       "0  {\"person\":{\"biden\":true}}  Train      biden  \n",
       "1  {\"person\":{\"obama\":true}}  Train      obama  \n",
       "2  {\"person\":{\"obama\":true}}  Train      obama  \n",
       "3  {\"person\":{\"obama\":true}}  Train      obama  \n",
       "4  {\"person\":{\"biden\":true}}  Train      biden  "
      ]
     },
     "execution_count": 13,
     "metadata": {},
     "output_type": "execute_result"
    }
   ],
   "source": [
    "df_annotation.head()"
   ]
  },
  {
   "cell_type": "code",
   "execution_count": 14,
   "metadata": {},
   "outputs": [],
   "source": [
    "region_df = df_annotation['region_shape_attributes'].apply(json.loads).apply(pd.Series)"
   ]
  },
  {
   "cell_type": "code",
   "execution_count": 15,
   "metadata": {},
   "outputs": [
    {
     "data": {
      "text/html": [
       "<div>\n",
       "<style scoped>\n",
       "    .dataframe tbody tr th:only-of-type {\n",
       "        vertical-align: middle;\n",
       "    }\n",
       "\n",
       "    .dataframe tbody tr th {\n",
       "        vertical-align: top;\n",
       "    }\n",
       "\n",
       "    .dataframe thead th {\n",
       "        text-align: right;\n",
       "    }\n",
       "</style>\n",
       "<table border=\"1\" class=\"dataframe\">\n",
       "  <thead>\n",
       "    <tr style=\"text-align: right;\">\n",
       "      <th></th>\n",
       "      <th>name</th>\n",
       "      <th>x</th>\n",
       "      <th>y</th>\n",
       "      <th>width</th>\n",
       "      <th>height</th>\n",
       "    </tr>\n",
       "  </thead>\n",
       "  <tbody>\n",
       "    <tr>\n",
       "      <th>0</th>\n",
       "      <td>rect</td>\n",
       "      <td>445</td>\n",
       "      <td>25</td>\n",
       "      <td>956</td>\n",
       "      <td>1135</td>\n",
       "    </tr>\n",
       "    <tr>\n",
       "      <th>1</th>\n",
       "      <td>rect</td>\n",
       "      <td>915</td>\n",
       "      <td>43</td>\n",
       "      <td>822</td>\n",
       "      <td>1033</td>\n",
       "    </tr>\n",
       "    <tr>\n",
       "      <th>2</th>\n",
       "      <td>rect</td>\n",
       "      <td>826</td>\n",
       "      <td>60</td>\n",
       "      <td>1240</td>\n",
       "      <td>1395</td>\n",
       "    </tr>\n",
       "    <tr>\n",
       "      <th>3</th>\n",
       "      <td>rect</td>\n",
       "      <td>899</td>\n",
       "      <td>84</td>\n",
       "      <td>621</td>\n",
       "      <td>786</td>\n",
       "    </tr>\n",
       "    <tr>\n",
       "      <th>4</th>\n",
       "      <td>rect</td>\n",
       "      <td>224</td>\n",
       "      <td>30</td>\n",
       "      <td>472</td>\n",
       "      <td>631</td>\n",
       "    </tr>\n",
       "  </tbody>\n",
       "</table>\n",
       "</div>"
      ],
      "text/plain": [
       "   name    x   y  width  height\n",
       "0  rect  445  25    956    1135\n",
       "1  rect  915  43    822    1033\n",
       "2  rect  826  60   1240    1395\n",
       "3  rect  899  84    621     786\n",
       "4  rect  224  30    472     631"
      ]
     },
     "execution_count": 15,
     "metadata": {},
     "output_type": "execute_result"
    }
   ],
   "source": [
    "region_df.head()"
   ]
  },
  {
   "cell_type": "code",
   "execution_count": 16,
   "metadata": {},
   "outputs": [],
   "source": [
    "final_df = pd.concat([df_annotation[['filename','annotation','Flag']], region_df], axis=1)"
   ]
  },
  {
   "cell_type": "code",
   "execution_count": 17,
   "metadata": {},
   "outputs": [],
   "source": [
    "location_of_images = \"./data/identify_persons/train/\""
   ]
  },
  {
   "cell_type": "code",
   "execution_count": 18,
   "metadata": {},
   "outputs": [],
   "source": [
    "final_df['filename'] = location_of_images+''+final_df['filename']"
   ]
  },
  {
   "cell_type": "code",
   "execution_count": 19,
   "metadata": {},
   "outputs": [
    {
     "data": {
      "text/html": [
       "<div>\n",
       "<style scoped>\n",
       "    .dataframe tbody tr th:only-of-type {\n",
       "        vertical-align: middle;\n",
       "    }\n",
       "\n",
       "    .dataframe tbody tr th {\n",
       "        vertical-align: top;\n",
       "    }\n",
       "\n",
       "    .dataframe thead th {\n",
       "        text-align: right;\n",
       "    }\n",
       "</style>\n",
       "<table border=\"1\" class=\"dataframe\">\n",
       "  <thead>\n",
       "    <tr style=\"text-align: right;\">\n",
       "      <th></th>\n",
       "      <th>filename</th>\n",
       "      <th>annotation</th>\n",
       "      <th>Flag</th>\n",
       "      <th>name</th>\n",
       "      <th>x</th>\n",
       "      <th>y</th>\n",
       "      <th>width</th>\n",
       "      <th>height</th>\n",
       "    </tr>\n",
       "  </thead>\n",
       "  <tbody>\n",
       "    <tr>\n",
       "      <th>0</th>\n",
       "      <td>./data/identify_persons/train/1.jpg</td>\n",
       "      <td>biden</td>\n",
       "      <td>Train</td>\n",
       "      <td>rect</td>\n",
       "      <td>445</td>\n",
       "      <td>25</td>\n",
       "      <td>956</td>\n",
       "      <td>1135</td>\n",
       "    </tr>\n",
       "    <tr>\n",
       "      <th>1</th>\n",
       "      <td>./data/identify_persons/train/2.jpg</td>\n",
       "      <td>obama</td>\n",
       "      <td>Train</td>\n",
       "      <td>rect</td>\n",
       "      <td>915</td>\n",
       "      <td>43</td>\n",
       "      <td>822</td>\n",
       "      <td>1033</td>\n",
       "    </tr>\n",
       "    <tr>\n",
       "      <th>2</th>\n",
       "      <td>./data/identify_persons/train/3.jpg</td>\n",
       "      <td>obama</td>\n",
       "      <td>Train</td>\n",
       "      <td>rect</td>\n",
       "      <td>826</td>\n",
       "      <td>60</td>\n",
       "      <td>1240</td>\n",
       "      <td>1395</td>\n",
       "    </tr>\n",
       "    <tr>\n",
       "      <th>3</th>\n",
       "      <td>./data/identify_persons/train/8.jpg</td>\n",
       "      <td>obama</td>\n",
       "      <td>Train</td>\n",
       "      <td>rect</td>\n",
       "      <td>899</td>\n",
       "      <td>84</td>\n",
       "      <td>621</td>\n",
       "      <td>786</td>\n",
       "    </tr>\n",
       "    <tr>\n",
       "      <th>4</th>\n",
       "      <td>./data/identify_persons/train/9.jpg</td>\n",
       "      <td>biden</td>\n",
       "      <td>Train</td>\n",
       "      <td>rect</td>\n",
       "      <td>224</td>\n",
       "      <td>30</td>\n",
       "      <td>472</td>\n",
       "      <td>631</td>\n",
       "    </tr>\n",
       "  </tbody>\n",
       "</table>\n",
       "</div>"
      ],
      "text/plain": [
       "                              filename annotation   Flag  name    x   y  \\\n",
       "0  ./data/identify_persons/train/1.jpg      biden  Train  rect  445  25   \n",
       "1  ./data/identify_persons/train/2.jpg      obama  Train  rect  915  43   \n",
       "2  ./data/identify_persons/train/3.jpg      obama  Train  rect  826  60   \n",
       "3  ./data/identify_persons/train/8.jpg      obama  Train  rect  899  84   \n",
       "4  ./data/identify_persons/train/9.jpg      biden  Train  rect  224  30   \n",
       "\n",
       "   width  height  \n",
       "0    956    1135  \n",
       "1    822    1033  \n",
       "2   1240    1395  \n",
       "3    621     786  \n",
       "4    472     631  "
      ]
     },
     "execution_count": 19,
     "metadata": {},
     "output_type": "execute_result"
    }
   ],
   "source": [
    "final_df.head()"
   ]
  },
  {
   "cell_type": "code",
   "execution_count": 20,
   "metadata": {},
   "outputs": [
    {
     "data": {
      "text/plain": [
       "array(['biden', 'obama', 'elon'], dtype=object)"
      ]
     },
     "execution_count": 20,
     "metadata": {},
     "output_type": "execute_result"
    }
   ],
   "source": [
    "final_df['annotation'].unique()"
   ]
  },
  {
   "cell_type": "code",
   "execution_count": 21,
   "metadata": {},
   "outputs": [],
   "source": [
    "dict_label = {\"biden\":0,\n",
    "             \"obama\":1,\n",
    "             \"elon\":2}"
   ]
  },
  {
   "cell_type": "code",
   "execution_count": 22,
   "metadata": {},
   "outputs": [],
   "source": [
    "final_df['label_int'] = final_df['annotation'].apply(lambda x:dict_label[x])"
   ]
  },
  {
   "cell_type": "code",
   "execution_count": 23,
   "metadata": {},
   "outputs": [
    {
     "data": {
      "text/plain": [
       "0    0\n",
       "1    1\n",
       "2    1\n",
       "3    1\n",
       "4    0\n",
       "Name: label_int, dtype: int64"
      ]
     },
     "execution_count": 23,
     "metadata": {},
     "output_type": "execute_result"
    }
   ],
   "source": [
    "final_df['label_int'].head()"
   ]
  },
  {
   "cell_type": "code",
   "execution_count": 24,
   "metadata": {},
   "outputs": [],
   "source": [
    "annotation_file = os.path.join(os.getcwd(),'data','annotations_train.txt')\n",
    "with open(annotation_file,'a') as f:\n",
    "    for i in range(len(final_df)):\n",
    "        if final_df.iloc[i]['Flag']=='Train':\n",
    "            x1=int(final_df.iloc[i]['x'])\n",
    "            y1=int(final_df.iloc[i]['y'])\n",
    "            x2=int(x1+final_df.iloc[i]['width'])\n",
    "            y2=int(y1+final_df.iloc[i]['height'])\n",
    "            label=str(final_df.iloc[i]['label_int'])\n",
    "            coordination=[str(x1), str(y1), str(x2), str(y2)]\n",
    "            record = final_df.iloc[i]['filename']+' '+','.join(coordination+[label])+'\\n'\n",
    "            f.write(record)\n",
    "\n",
    "annotation_file = os.path.join(os.getcwd(),'data','annotations_dev.txt')\n",
    "with open(annotation_file,'a') as f:\n",
    "    for i in range(len(final_df)):\n",
    "        if final_df.iloc[i]['Flag']=='Dev':\n",
    "            x1=int(final_df.iloc[i]['x'])\n",
    "            y1=int(final_df.iloc[i]['y'])\n",
    "            x2=int(x1+final_df.iloc[i]['width'])\n",
    "            y2=int(y1+final_df.iloc[i]['height'])\n",
    "            label=str(final_df.iloc[i]['label_int'])\n",
    "            coordination=[str(x1), str(y1), str(x2), str(y2)]\n",
    "            record = final_df.iloc[i]['filename']+' '+','.join(coordination+[label])+'\\n'\n",
    "            f.write(record)\n",
    "\n",
    "annotation_file = os.path.join(os.getcwd(),'data','annotations_test.txt')\n",
    "with open(annotation_file,'a') as f:\n",
    "    for i in range(len(final_df)):\n",
    "        if final_df.iloc[i]['Flag']=='Holdout':\n",
    "            x1=int(final_df.iloc[i]['x'])\n",
    "            y1=int(final_df.iloc[i]['y'])\n",
    "            x2=int(x1+final_df.iloc[i]['width'])\n",
    "            y2=int(y1+final_df.iloc[i]['height'])\n",
    "            label=str(final_df.iloc[i]['label_int'])\n",
    "            coordination=[str(x1), str(y1), str(x2), str(y2)]\n",
    "            record = final_df.iloc[i]['filename']+' '+','.join(coordination+[label])+'\\n'\n",
    "            f.write(record)"
   ]
  },
  {
   "cell_type": "code",
   "execution_count": 26,
   "metadata": {},
   "outputs": [],
   "source": [
    "predict = {}\n",
    "f=open(os.path.join(os.getcwd(),'data','annotations_train.txt'), \"r\")\n",
    "Lines = f.readlines()\n",
    "for line in Lines:\n",
    "    filename, box = line.split()\n",
    "    if filename not in predict:\n",
    "        predict[filename]=[]\n",
    "    predict[filename].append(box)\n",
    "\n",
    "file=open(os.path.join(os.getcwd(),'input_log_utils_others','model_data','data_train.txt'),\"w\")\n",
    "for k,v in predict.items():\n",
    "    file.write(k+\" \"+\" \".join(v)+\"\\n\")\n",
    "file.close()\n",
    "    "
   ]
  },
  {
   "cell_type": "code",
   "execution_count": null,
   "metadata": {},
   "outputs": [],
   "source": [
    "# # option: enrich the dev dataset\n",
    "# # add clean images to test and set dummy class (larger number than classes used), bounding box can be arbitrary\n",
    "# # make a copy of data_dev.txt so we can revert to old file if required\n",
    "\n",
    "# shutil.copy('input_log_utils_others/model_data/data_dev.txt', 'input_log_utils_others/model_data/data_dev_updated.txt')\n",
    "# file=open('input_log_utils_others/model_data/data_dev.txt',\"a\")\n",
    "# for clean_image in os.listdir('data/clean_images'):\n",
    "#     file.write(\"./data/clean_images/\"+clean_image+\" \"+\"10,30,40,50,15\"+\"\\n\")\n",
    "# file.close()\n"
   ]
  },
  {
   "cell_type": "code",
   "execution_count": 28,
   "metadata": {},
   "outputs": [],
   "source": [
    "predict = {}\n",
    "f=open(os.path.join(os.getcwd(),'data','annotations_dev.txt'), \"r\")\n",
    "Lines = f.readlines()\n",
    "for line in Lines:\n",
    "    filename, box = line.split()\n",
    "    if filename not in predict:\n",
    "        predict[filename]=[]\n",
    "    predict[filename].append(box)\n",
    "\n",
    "file=open(os.path.join(os.getcwd(),'input_log_utils_others','model_data','data_dev.txt'),\"w\")\n",
    "for k,v in predict.items():\n",
    "    file.write(k+\" \"+\" \".join(v)+\"\\n\")\n",
    "file.close()"
   ]
  },
  {
   "cell_type": "code",
   "execution_count": null,
   "metadata": {},
   "outputs": [],
   "source": []
  },
  {
   "cell_type": "code",
   "execution_count": null,
   "metadata": {},
   "outputs": [],
   "source": []
  },
  {
   "cell_type": "code",
   "execution_count": null,
   "metadata": {},
   "outputs": [],
   "source": []
  },
  {
   "cell_type": "code",
   "execution_count": null,
   "metadata": {},
   "outputs": [],
   "source": []
  },
  {
   "cell_type": "code",
   "execution_count": null,
   "metadata": {},
   "outputs": [],
   "source": []
  },
  {
   "cell_type": "code",
   "execution_count": 9,
   "metadata": {},
   "outputs": [],
   "source": [
    "with open(ANNOTATIONS_FILE) as json_file:\n",
    "    data = json.load(json_file)\n",
    "images = data['images']\n",
    "categories = data['categories']\n",
    "annotations = data['annotations']"
   ]
  },
  {
   "cell_type": "code",
   "execution_count": 10,
   "metadata": {},
   "outputs": [
    {
     "data": {
      "text/plain": [
       "25"
      ]
     },
     "execution_count": 10,
     "metadata": {},
     "output_type": "execute_result"
    }
   ],
   "source": [
    "len(images)"
   ]
  },
  {
   "cell_type": "code",
   "execution_count": 11,
   "metadata": {},
   "outputs": [
    {
     "data": {
      "text/plain": [
       "{'width': 668, 'height': 670, 'id': 0, 'file_name': 'images/3/3fb3de21-66.png'}"
      ]
     },
     "execution_count": 11,
     "metadata": {},
     "output_type": "execute_result"
    }
   ],
   "source": [
    "images[0]"
   ]
  },
  {
   "cell_type": "code",
   "execution_count": 12,
   "metadata": {},
   "outputs": [
    {
     "data": {
      "text/plain": [
       "[{'id': 0, 'name': 'other_litter'},\n",
       " {'id': 1, 'name': 'paper_trash'},\n",
       " {'id': 2, 'name': 'people'}]"
      ]
     },
     "execution_count": 12,
     "metadata": {},
     "output_type": "execute_result"
    }
   ],
   "source": [
    "categories"
   ]
  },
  {
   "cell_type": "code",
   "execution_count": 13,
   "metadata": {},
   "outputs": [],
   "source": [
    "class_name_dict = {0:'other_litter',\n",
    "                   1:'paper_trash',\n",
    "                   2:'people'}"
   ]
  },
  {
   "cell_type": "code",
   "execution_count": 14,
   "metadata": {},
   "outputs": [
    {
     "data": {
      "text/plain": [
       "{'id': 0,\n",
       " 'image_id': 0,\n",
       " 'category_id': 2,\n",
       " 'segmentation': [],\n",
       " 'bbox': [161, 188, 66, 99],\n",
       " 'ignore': 0,\n",
       " 'iscrowd': 0,\n",
       " 'area': 6534}"
      ]
     },
     "execution_count": 14,
     "metadata": {},
     "output_type": "execute_result"
    }
   ],
   "source": [
    "annotations[0]"
   ]
  },
  {
   "cell_type": "code",
   "execution_count": 15,
   "metadata": {},
   "outputs": [],
   "source": [
    "# cate_id_classes_dict = {}\n",
    "# for i in categories:\n",
    "#     if i['id'] not in cate_id_classes_dict:\n",
    "#         cate_id_classes_dict[i['id']] = i['supercategory']\n"
   ]
  },
  {
   "cell_type": "code",
   "execution_count": 16,
   "metadata": {},
   "outputs": [],
   "source": [
    "# class_label_dict = {}\n",
    "# k=0\n",
    "# for i in set(cate_id_classes_dict.values()):\n",
    "#     if i not in class_label_dict:\n",
    "#         class_label_dict[i] = k\n",
    "#         k+=1"
   ]
  },
  {
   "cell_type": "code",
   "execution_count": 17,
   "metadata": {},
   "outputs": [],
   "source": [
    "images_annotations = []\n",
    "for idx, image in enumerate(images):\n",
    "    image_id = int(image['id'])\n",
    "    file_name = image['file_name']\n",
    "\n",
    "    file_location = os.path.join('/Users/chenmingxue/Desktop/KPMG_Project/BOA_ComputerVision/signature_detection_mAP_updated',DATA_DIR,file_name)\n",
    "\n",
    "    _annotations = [a for a in annotations if int(a['image_id']) == image_id]\n",
    "    for _annotation in _annotations:\n",
    "        class_label = _annotation['category_id']\n",
    "        (x,y,w,h) = _annotation['bbox']\n",
    "        (x1,y1,x2,y2) = (x,y,x+w,y+h)\n",
    "        coodination = (int(x1),int(y1),int(x2),int(y2))\n",
    "        images_annotations.append((file_location, coodination, class_label))\n",
    "    "
   ]
  },
  {
   "cell_type": "code",
   "execution_count": 18,
   "metadata": {},
   "outputs": [
    {
     "data": {
      "text/plain": [
       "(('/Users/chenmingxue/Desktop/KPMG_Project/BOA_ComputerVision/signature_detection_mAP_updated/data/label_boa_2/images/3/3fb3de21-66.png',\n",
       "  (161, 188, 227, 287),\n",
       "  2),\n",
       " 72)"
      ]
     },
     "execution_count": 18,
     "metadata": {},
     "output_type": "execute_result"
    }
   ],
   "source": [
    "images_annotations[0], len(images_annotations)"
   ]
  },
  {
   "cell_type": "code",
   "execution_count": 19,
   "metadata": {},
   "outputs": [],
   "source": [
    "annotation_file = os.path.join(DATA_DIR,'custom_data','annotations_result.txt')\n",
    "with open(annotation_file, 'a') as f:\n",
    "    for i in images_annotations:\n",
    "        record = i[0]+' '+','.join([str(x) for x in i[1]]+[str(i[2])])+'\\n'\n",
    "        f.write(record)"
   ]
  },
  {
   "cell_type": "code",
   "execution_count": 20,
   "metadata": {},
   "outputs": [],
   "source": [
    "temp=pd.read_csv(annotation_file,header=None,delimiter = \"\\t\")"
   ]
  },
  {
   "cell_type": "code",
   "execution_count": 21,
   "metadata": {},
   "outputs": [
    {
     "data": {
      "text/html": [
       "<div>\n",
       "<style scoped>\n",
       "    .dataframe tbody tr th:only-of-type {\n",
       "        vertical-align: middle;\n",
       "    }\n",
       "\n",
       "    .dataframe tbody tr th {\n",
       "        vertical-align: top;\n",
       "    }\n",
       "\n",
       "    .dataframe thead th {\n",
       "        text-align: right;\n",
       "    }\n",
       "</style>\n",
       "<table border=\"1\" class=\"dataframe\">\n",
       "  <thead>\n",
       "    <tr style=\"text-align: right;\">\n",
       "      <th></th>\n",
       "      <th>0</th>\n",
       "    </tr>\n",
       "  </thead>\n",
       "  <tbody>\n",
       "    <tr>\n",
       "      <th>0</th>\n",
       "      <td>/Users/chenmingxue/Desktop/KPMG_Project/BOA_Co...</td>\n",
       "    </tr>\n",
       "    <tr>\n",
       "      <th>1</th>\n",
       "      <td>/Users/chenmingxue/Desktop/KPMG_Project/BOA_Co...</td>\n",
       "    </tr>\n",
       "    <tr>\n",
       "      <th>2</th>\n",
       "      <td>/Users/chenmingxue/Desktop/KPMG_Project/BOA_Co...</td>\n",
       "    </tr>\n",
       "    <tr>\n",
       "      <th>3</th>\n",
       "      <td>/Users/chenmingxue/Desktop/KPMG_Project/BOA_Co...</td>\n",
       "    </tr>\n",
       "    <tr>\n",
       "      <th>4</th>\n",
       "      <td>/Users/chenmingxue/Desktop/KPMG_Project/BOA_Co...</td>\n",
       "    </tr>\n",
       "    <tr>\n",
       "      <th>...</th>\n",
       "      <td>...</td>\n",
       "    </tr>\n",
       "    <tr>\n",
       "      <th>67</th>\n",
       "      <td>/Users/chenmingxue/Desktop/KPMG_Project/BOA_Co...</td>\n",
       "    </tr>\n",
       "    <tr>\n",
       "      <th>68</th>\n",
       "      <td>/Users/chenmingxue/Desktop/KPMG_Project/BOA_Co...</td>\n",
       "    </tr>\n",
       "    <tr>\n",
       "      <th>69</th>\n",
       "      <td>/Users/chenmingxue/Desktop/KPMG_Project/BOA_Co...</td>\n",
       "    </tr>\n",
       "    <tr>\n",
       "      <th>70</th>\n",
       "      <td>/Users/chenmingxue/Desktop/KPMG_Project/BOA_Co...</td>\n",
       "    </tr>\n",
       "    <tr>\n",
       "      <th>71</th>\n",
       "      <td>/Users/chenmingxue/Desktop/KPMG_Project/BOA_Co...</td>\n",
       "    </tr>\n",
       "  </tbody>\n",
       "</table>\n",
       "<p>72 rows × 1 columns</p>\n",
       "</div>"
      ],
      "text/plain": [
       "                                                    0\n",
       "0   /Users/chenmingxue/Desktop/KPMG_Project/BOA_Co...\n",
       "1   /Users/chenmingxue/Desktop/KPMG_Project/BOA_Co...\n",
       "2   /Users/chenmingxue/Desktop/KPMG_Project/BOA_Co...\n",
       "3   /Users/chenmingxue/Desktop/KPMG_Project/BOA_Co...\n",
       "4   /Users/chenmingxue/Desktop/KPMG_Project/BOA_Co...\n",
       "..                                                ...\n",
       "67  /Users/chenmingxue/Desktop/KPMG_Project/BOA_Co...\n",
       "68  /Users/chenmingxue/Desktop/KPMG_Project/BOA_Co...\n",
       "69  /Users/chenmingxue/Desktop/KPMG_Project/BOA_Co...\n",
       "70  /Users/chenmingxue/Desktop/KPMG_Project/BOA_Co...\n",
       "71  /Users/chenmingxue/Desktop/KPMG_Project/BOA_Co...\n",
       "\n",
       "[72 rows x 1 columns]"
      ]
     },
     "execution_count": 21,
     "metadata": {},
     "output_type": "execute_result"
    }
   ],
   "source": [
    "temp"
   ]
  },
  {
   "cell_type": "code",
   "execution_count": 22,
   "metadata": {},
   "outputs": [
    {
     "name": "stdout",
     "output_type": "stream",
     "text": [
      "(57, 1)\n",
      "(15, 1)\n"
     ]
    }
   ],
   "source": [
    "from sklearn.model_selection import train_test_split\n",
    "train_df, dev_df = train_test_split(temp, test_size=0.2, random_state=1)\n",
    "print(train_df.shape)\n",
    "print(dev_df.shape)\n"
   ]
  },
  {
   "cell_type": "code",
   "execution_count": 23,
   "metadata": {},
   "outputs": [],
   "source": [
    "import csv"
   ]
  },
  {
   "cell_type": "code",
   "execution_count": 24,
   "metadata": {},
   "outputs": [],
   "source": [
    "train_df.to_csv(os.path.join(DATA_DIR,'custom_data','data_train.txt'), header=None, index=None, sep=';', quoting=csv.QUOTE_NONE, quotechar=\"\",  escapechar=\"\")\n",
    "\n",
    "#dev_df.to_csv(r'data/annotation_results/data_dev.txt', header=None, index=None, sep=' ')\n",
    "dev_df.to_csv(os.path.join(DATA_DIR,'custom_data','data_dev.txt'), header=None, index=None, sep=';', quoting=csv.QUOTE_NONE, quotechar=\"\",  escapechar=\"\")\n",
    "\n"
   ]
  },
  {
   "cell_type": "code",
   "execution_count": 25,
   "metadata": {},
   "outputs": [],
   "source": [
    "### Split images corresponding to Train and Dev\n",
    "f= open(os.path.join(DATA_DIR,'custom_data','data_train.txt'), \"r\") \n",
    "Lines = f.readlines() \n",
    "image_name=[]\n",
    "for line in Lines:\n",
    "    filename = line.split()[0]\n",
    "    image_name.append(filename)\n",
    "\n"
   ]
  },
  {
   "cell_type": "code",
   "execution_count": 26,
   "metadata": {},
   "outputs": [
    {
     "data": {
      "text/plain": [
       "(57,\n",
       " '/Users/chenmingxue/Desktop/KPMG_Project/BOA_ComputerVision/signature_detection_mAP_updated/data/label_boa_2/images/3/2abe2b99-57.png')"
      ]
     },
     "execution_count": 26,
     "metadata": {},
     "output_type": "execute_result"
    }
   ],
   "source": [
    "len(image_name), image_name[0]"
   ]
  },
  {
   "cell_type": "code",
   "execution_count": 27,
   "metadata": {},
   "outputs": [],
   "source": [
    "#base_image_folder= os.path.join('/Users/chenmingxue/Desktop/KPMG_Project/BOA_ComputerVision/signature_detection_mAP_updated',DATA_DIR)\n",
    "dest_folder_train=os.path.join(DATA_DIR,'custom_data','train_images')"
   ]
  },
  {
   "cell_type": "code",
   "execution_count": 28,
   "metadata": {},
   "outputs": [],
   "source": [
    "import shutil\n",
    "# create train set images\n",
    "for img in image_name:\n",
    "    #if img in os.listdir(base_image_folder):\n",
    "    try:\n",
    "        shutil.copy(img,os.path.join(dest_folder_train,img.split('/')[-1]))\n",
    "    except:    \n",
    "        print(\"image not exist: \", img)"
   ]
  },
  {
   "cell_type": "code",
   "execution_count": 29,
   "metadata": {},
   "outputs": [],
   "source": [
    "### Split images corresponding Dev\n",
    "f= open(os.path.join(DATA_DIR,'custom_data','data_dev.txt'), \"r\") \n",
    "Lines = f.readlines() \n",
    "image_name=[]\n",
    "for line in Lines:\n",
    "    filename = line.split()[0]\n",
    "    image_name.append(filename)\n",
    "\n"
   ]
  },
  {
   "cell_type": "code",
   "execution_count": 30,
   "metadata": {},
   "outputs": [
    {
     "data": {
      "text/plain": [
       "(15,\n",
       " '/Users/chenmingxue/Desktop/KPMG_Project/BOA_ComputerVision/signature_detection_mAP_updated/data/label_boa_2/images/3/018fc533-71.png')"
      ]
     },
     "execution_count": 30,
     "metadata": {},
     "output_type": "execute_result"
    }
   ],
   "source": [
    "len(image_name), image_name[0]"
   ]
  },
  {
   "cell_type": "code",
   "execution_count": 31,
   "metadata": {},
   "outputs": [],
   "source": [
    "dest_folder_dev=os.path.join(DATA_DIR,'custom_data','dev_images')"
   ]
  },
  {
   "cell_type": "code",
   "execution_count": 32,
   "metadata": {},
   "outputs": [
    {
     "data": {
      "text/plain": [
       "'data/label_boa_2/custom_data/dev_images'"
      ]
     },
     "execution_count": 32,
     "metadata": {},
     "output_type": "execute_result"
    }
   ],
   "source": [
    "dest_folder_dev"
   ]
  },
  {
   "cell_type": "code",
   "execution_count": 33,
   "metadata": {},
   "outputs": [],
   "source": [
    "import shutil\n",
    "for img in image_name:\n",
    "    try:\n",
    "        shutil.copy(img,os.path.join(dest_folder_dev,img.split('/')[-1]))\n",
    "    except:    \n",
    "        print(\"image not exist: \", img)"
   ]
  },
  {
   "cell_type": "code",
   "execution_count": null,
   "metadata": {},
   "outputs": [],
   "source": []
  },
  {
   "cell_type": "code",
   "execution_count": null,
   "metadata": {},
   "outputs": [],
   "source": []
  }
 ],
 "metadata": {
  "anaconda-cloud": {},
  "kernelspec": {
   "display_name": "Python 3 (ipykernel)",
   "language": "python",
   "name": "python3"
  },
  "language_info": {
   "codemirror_mode": {
    "name": "ipython",
    "version": 3
   },
   "file_extension": ".py",
   "mimetype": "text/x-python",
   "name": "python",
   "nbconvert_exporter": "python",
   "pygments_lexer": "ipython3",
   "version": "3.7.3"
  }
 },
 "nbformat": 4,
 "nbformat_minor": 1
}
