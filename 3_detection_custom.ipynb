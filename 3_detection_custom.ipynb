{
 "cells": [
  {
   "cell_type": "code",
   "execution_count": 1,
   "metadata": {},
   "outputs": [],
   "source": [
    "#================================================================\n",
    "#\n",
    "#   File name   : detection_custom.py\n",
    "#   Author      : PyLessons\n",
    "#   Created date: 2020-09-17\n",
    "#   Website     : https://pylessons.com/\n",
    "#   GitHub      : https://github.com/pythonlessons/TensorFlow-2.x-YOLOv3\n",
    "#   Description : object detection image and video example\n",
    "#\n",
    "#================================================================\n",
    "import os\n",
    "os.environ[\"CUDA_DEVICE_ORDER\"]=\"PCI_BUS_ID\"\n",
    "# The GPU id to use (0-7)\n",
    "os.environ[\"CUDA_VISIBLE_DEVICES\"]=\"\"  #predict with CPU only\n",
    "\n",
    "import tensorflow as tf\n",
    "from tensorflow.compat.v1 import ConfigProto\n",
    "from tensorflow.compat.v1 import InteractiveSession\n",
    "# Configure TF\n",
    "config = ConfigProto()\n",
    "config.gpu_options.allow_growth = True\n",
    "session = InteractiveSession(config=config)\n",
    "\n",
    "import cv2\n",
    "import numpy as np\n",
    "from input_log_utils_others.yolov3.utils import detect_image, Load_Yolo_model\n",
    "from input_log_utils_others.yolov3.configs import *\n",
    "from pathlib import Path"
   ]
  },
  {
   "cell_type": "code",
   "execution_count": 2,
   "metadata": {},
   "outputs": [],
   "source": [
    "yolo = Load_Yolo_model(\"C:\\\\Users\\\\rajeshs2\\\\MyDocuments\\\\Digital Lighthouse\\\\trash_detection\\\\input_log_utils_others\\\\checkpoints\\\\yolov4_custom\")\n",
    "\n",
    "#C:\\Users\\rajeshs2\\MyDocuments\\Digital Lighthouse\\Computer Vision\\input_log_utils_others\\checkpoints"
   ]
  },
  {
   "cell_type": "code",
   "execution_count": 3,
   "metadata": {},
   "outputs": [],
   "source": [
    "# User Input below to provide the path where the images are present and the path\n",
    "# where the images will be saved with bounding box overlayed\n",
    "# set to path holdout folder for test\n",
    "#image_path = r\"./processed_dataset/images/dev/boa_dev2/\"\n",
    "\n",
    "\n"
   ]
  },
  {
   "cell_type": "markdown",
   "metadata": {},
   "source": [
    "# Prediction on images: train set with clean"
   ]
  },
  {
   "cell_type": "code",
   "execution_count": 4,
   "metadata": {},
   "outputs": [],
   "source": [
    "data_train = r\"./data/annotations_train.txt\" \n",
    "predict_path = r\"./input_log_utils_others/IMAGES/dev_predict/train/\"\n",
    "output_result = \"/prediction_result.txt\""
   ]
  },
  {
   "cell_type": "code",
   "execution_count": 5,
   "metadata": {},
   "outputs": [],
   "source": [
    "file_path = []\n",
    "file_name_label = []"
   ]
  },
  {
   "cell_type": "code",
   "execution_count": 6,
   "metadata": {},
   "outputs": [],
   "source": [
    "with open(data_train, 'r') as f:\n",
    "    Lines = f.readlines()\n",
    "    for line in Lines:\n",
    "        file_path.append(line.split(\" \")[0])\n",
    "        file_name_label.append((line.split(\" \")[0].split('/')[-1],1))"
   ]
  },
  {
   "cell_type": "code",
   "execution_count": 7,
   "metadata": {},
   "outputs": [],
   "source": [
    "variable = list(set(file_path))"
   ]
  },
  {
   "cell_type": "code",
   "execution_count": 8,
   "metadata": {
    "scrolled": true
   },
   "outputs": [
    {
     "data": {
      "text/plain": [
       "17"
      ]
     },
     "execution_count": 8,
     "metadata": {},
     "output_type": "execute_result"
    }
   ],
   "source": [
    "len(file_name_label)"
   ]
  },
  {
   "cell_type": "code",
   "execution_count": 9,
   "metadata": {},
   "outputs": [
    {
     "name": "stdout",
     "output_type": "stream",
     "text": [
      "Preprocess time: 0.00998234748840332\n",
      "Inference time: 4.815510511398315\n",
      "Preprocess time: 0.007985115051269531\n",
      "Inference time: 0.9195289611816406\n",
      "Preprocess time: 0.008985280990600586\n",
      "Inference time: 1.0702884197235107\n",
      "Preprocess time: 0.011980295181274414\n",
      "Inference time: 0.9904129505157471\n",
      "Preprocess time: 0.006989717483520508\n",
      "Inference time: 0.9904112815856934\n",
      "Preprocess time: 0.004992246627807617\n",
      "Inference time: 0.9784367084503174\n",
      "Preprocess time: 0.005990743637084961\n",
      "Inference time: 0.8945720195770264\n",
      "Preprocess time: 0.008978843688964844\n",
      "Inference time: 1.0358643531799316\n",
      "Preprocess time: 0.008982658386230469\n",
      "Inference time: 1.1777455806732178\n",
      "Preprocess time: 0.007983207702636719\n",
      "Inference time: 1.0813429355621338\n",
      "Preprocess time: 0.0159759521484375\n",
      "Inference time: 1.212752342224121\n",
      "Preprocess time: 0.008979320526123047\n",
      "Inference time: 1.2160553932189941\n",
      "Preprocess time: 0.00698542594909668\n",
      "Inference time: 0.9135372638702393\n"
     ]
    }
   ],
   "source": [
    "for file in variable:\n",
    "    detect_image(file.split('\\\\')[-1],\n",
    "                 output_result,\n",
    "                 yolo,\n",
    "                 predict_path,\n",
    "                 file,\n",
    "                 predict_path+file.split(os.path.sep)[-1],\n",
    "                 #input_size=YOLO_INPUT_SIZE,\n",
    "                 show=False,\n",
    "                 CLASSES=TRAIN_CLASSES,\n",
    "                 score_threshold=0.26, \n",
    "                 iou_threshold=0.26,\n",
    "                 rectangle_colors=(255,0,0)\n",
    "                )"
   ]
  },
  {
   "cell_type": "markdown",
   "metadata": {},
   "source": [
    "# Prediction on images: dev set with clean\n"
   ]
  },
  {
   "cell_type": "code",
   "execution_count": 10,
   "metadata": {},
   "outputs": [],
   "source": [
    "data_dev = r\"./data/annotations_dev.txt\" \n",
    "predict_path = r\"./input_log_utils_others/IMAGES/dev_predict/dev/\"\n",
    "output_result = \"/prediction_result.txt\""
   ]
  },
  {
   "cell_type": "code",
   "execution_count": 11,
   "metadata": {},
   "outputs": [],
   "source": [
    "file_path = []\n",
    "file_name_label = []"
   ]
  },
  {
   "cell_type": "code",
   "execution_count": 12,
   "metadata": {},
   "outputs": [],
   "source": [
    "with open(data_dev, 'r') as f:\n",
    "    Lines = f.readlines()\n",
    "    for line in Lines:\n",
    "        file_path.append(line.split(\" \")[0])\n",
    "        file_name_label.append((line.split(\" \")[0].split('/')[-1],1))"
   ]
  },
  {
   "cell_type": "code",
   "execution_count": 13,
   "metadata": {},
   "outputs": [
    {
     "data": {
      "text/plain": [
       "4"
      ]
     },
     "execution_count": 13,
     "metadata": {},
     "output_type": "execute_result"
    }
   ],
   "source": [
    "len(file_name_label)"
   ]
  },
  {
   "cell_type": "code",
   "execution_count": 14,
   "metadata": {},
   "outputs": [
    {
     "name": "stdout",
     "output_type": "stream",
     "text": [
      "Preprocess time: 0.005991220474243164\n",
      "Inference time: 0.9365012645721436\n",
      "Preprocess time: 0.008986473083496094\n",
      "Inference time: 0.8406519889831543\n",
      "Preprocess time: 0.007991552352905273\n",
      "Inference time: 0.921520471572876\n",
      "Preprocess time: 0.0069882869720458984\n",
      "Inference time: 0.8436481952667236\n"
     ]
    }
   ],
   "source": [
    "for file in file_path:\n",
    "    detect_image(file.split('\\\\')[-1],\n",
    "                 output_result,\n",
    "                 yolo,\n",
    "                 predict_path,\n",
    "                 file,\n",
    "                 predict_path+file.split(os.path.sep)[-1],\n",
    "                 input_size=YOLO_INPUT_SIZE,\n",
    "                 show=False,\n",
    "                 CLASSES=TRAIN_CLASSES,\n",
    "                 score_threshold=0.26, \n",
    "                 iou_threshold=0.26,\n",
    "                 rectangle_colors=(255,0,0)\n",
    "                )"
   ]
  },
  {
   "cell_type": "markdown",
   "metadata": {},
   "source": [
    "# Prediction on images: test set with clean"
   ]
  },
  {
   "cell_type": "code",
   "execution_count": 15,
   "metadata": {},
   "outputs": [],
   "source": [
    "#image_path = r\"./train_images\"\n",
    "image_path = r\"./data/identify_persons/new_test/\"\n",
    "predict_path = r\"./input_log_utils_others/IMAGES/dev_predict/test/\"\n",
    "output_result = \"/prediction_result.txt\""
   ]
  },
  {
   "cell_type": "code",
   "execution_count": 16,
   "metadata": {},
   "outputs": [],
   "source": [
    "image_types = [\".tiff\", \".jpg\",\".png\", \".jpeg\"]\n",
    "img_paths = [str(i) for i in Path(image_path).glob(\"**/*\") if i.suffix.lower() in image_types \\\n",
    "                  and os.path.sep+\".\" not in str(i)]"
   ]
  },
  {
   "cell_type": "code",
   "execution_count": 17,
   "metadata": {},
   "outputs": [
    {
     "name": "stdout",
     "output_type": "stream",
     "text": [
      "Preprocess time: 0.006989240646362305\n",
      "Inference time: 0.8057088851928711\n"
     ]
    }
   ],
   "source": [
    "for file in img_paths:\n",
    "    detect_image(file.split('\\\\')[-1],\n",
    "                 output_result,\n",
    "                 yolo,\n",
    "                 predict_path,\n",
    "                 file,\n",
    "                 predict_path+file.split(os.path.sep)[-1],\n",
    "                 input_size=YOLO_INPUT_SIZE,\n",
    "                 show=False,\n",
    "                 CLASSES=TRAIN_CLASSES,\n",
    "                 score_threshold=0.26, \n",
    "                 iou_threshold=0.26,\n",
    "                 rectangle_colors=(255,0,0)\n",
    "                )"
   ]
  },
  {
   "cell_type": "code",
   "execution_count": null,
   "metadata": {},
   "outputs": [],
   "source": []
  }
 ],
 "metadata": {
  "environment": {
   "name": "tf2-gpu.2-6.m77",
   "type": "gcloud",
   "uri": "gcr.io/deeplearning-platform-release/tf2-gpu.2-6:m77"
  },
  "kernelspec": {
   "display_name": "Python 3 (ipykernel)",
   "language": "python",
   "name": "python3"
  },
  "language_info": {
   "codemirror_mode": {
    "name": "ipython",
    "version": 3
   },
   "file_extension": ".py",
   "mimetype": "text/x-python",
   "name": "python",
   "nbconvert_exporter": "python",
   "pygments_lexer": "ipython3",
   "version": "3.8.8"
  }
 },
 "nbformat": 4,
 "nbformat_minor": 4
}
